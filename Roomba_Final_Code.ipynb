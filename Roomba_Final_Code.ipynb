{
  "nbformat": 4,
  "nbformat_minor": 0,
  "metadata": {
    "colab": {
      "name": "Roomba_Final_Code.ipynb",
      "provenance": [],
      "collapsed_sections": []
    },
    "kernelspec": {
      "name": "python3",
      "display_name": "Python 3"
    }
  },
  "cells": [
    {
      "cell_type": "code",
      "metadata": {
        "id": "ogSX65p6DYhl",
        "colab_type": "code",
        "colab": {}
      },
      "source": [
        "from matplotlib import pyplot as plt\n",
        "import numpy as np\n",
        "import random"
      ],
      "execution_count": 0,
      "outputs": []
    },
    {
      "cell_type": "markdown",
      "metadata": {
        "id": "zVJSoP7emc8_",
        "colab_type": "text"
      },
      "source": [
        "###**Scenario 1**"
      ]
    },
    {
      "cell_type": "markdown",
      "metadata": {
        "id": "-cXu6nFllmHf",
        "colab_type": "text"
      },
      "source": [
        "### First Roomba Strategy "
      ]
    },
    {
      "cell_type": "code",
      "metadata": {
        "id": "nLDH0x6lDbnu",
        "colab_type": "code",
        "colab": {}
      },
      "source": [
        "class Roomba_sim():\n",
        "    def __init__(self, size = 10):\n",
        "        \n",
        "        '''\n",
        "     Inputs:\n",
        "        \n",
        "            size (int) The number of cells along each dimension of the\n",
        "              2-dimensional grid. Default: 10.\n",
        "        '''\n",
        "        self.size= size\n",
        "        self.steps = 0 \n",
        "        #create an array of zeros\n",
        "        self.current_state = np.zeros((self.size, self.size))      \n",
        "        for i in range(self.size):\n",
        "            for j in range(self.size):\n",
        "                probability = random.random()\n",
        "                \n",
        "                if probability <0.1:\n",
        "                    #randomly sets 10% of the room to be objects\n",
        "                    self.current_state[i][j] = 5\n",
        "                    \n",
        "                \n",
        "                elif probability < 0.3:\n",
        "                    #randomly sets 20% of the room to be clean\n",
        "                    self.current_state[i][j] = 0\n",
        "                    \n",
        "                else:\n",
        "                #the other 70% are randomly set at a value from 1-4\n",
        "                    self.current_state[i][j] = random.randint(1,4)       \n",
        "        \n",
        "    def initialize(self):\n",
        "        #creates a wall around the perimeter, setting the value to 5 \n",
        "        #so the roomba will not go through it \n",
        "        \n",
        "        for x in [0,self.size-1]:\n",
        "            for y in range(self.size):\n",
        "                self.current_state[x,y] = 5\n",
        "        \n",
        "        for y in [0,self.size-1]:\n",
        "            for x in range(self.size):\n",
        "                self.current_state[x,y] = 5\n",
        "        \n",
        "        while True:\n",
        "            #places the roomba randomly in the room \n",
        "            self.roomba_pos = (random.choice(range(1,self.size-1)),random.choice(range(1,self.size-1)))\n",
        "            if self.current_state[self.roomba_pos] < 5:\n",
        "                break \n",
        "        #the roomba cleans (subtracts one from the value of the cell) if it is identified to be dirty        \n",
        "        if self.current_state[self.roomba_pos[0],self.roomba_pos[1]]>0: \n",
        "            self.current_state[self.roomba_pos[0],self.roomba_pos[1]] -=1 \n",
        "        #movement is set to go one to the left \n",
        "        self.movement = np.array([-1,0])\n",
        "\n",
        "\n",
        "    def check_hood(self):\n",
        "        #function which changes neighborhood for possible places to go\n",
        "        pos = self.roomba_pos \n",
        "        places = []\n",
        "        #list of all the places that the roomba can go \n",
        "        \n",
        "        for direction in [[0,1],[1,0],[0,-1],[-1,0]]:\n",
        "            next_place = np.array(pos) + np.array(direction)\n",
        "            \n",
        "            if self.current_state[next_place[0],next_place[1]] < 5:\n",
        "                places.append(next_place)\n",
        "            #places all cells under 5 as possible places to go\n",
        "        \n",
        "        self.roomba_pos = random.choice(places)  \n",
        "        #roomba randomly chooses one of the places to move & clean\n",
        "\n",
        "\n",
        "    def step(self):\n",
        "    \n",
        "        self.check_hood()\n",
        "        #first calls the check hood function to move to a non-object in neighborhood \n",
        "\n",
        "        if self.current_state[self.roomba_pos[0], self.roomba_pos[1]] > 0:\n",
        "            self.current_state[self.roomba_pos[0], self.roomba_pos[1]] -= 1\n",
        "        self.steps += 1\n",
        "         #the state of the cell decreases by 1 as the roomba \"cleans it\"\n",
        "\n",
        "    def check_dirt(self):\n",
        "        \n",
        "        dirty_cells = []\n",
        "        #creates an empty array to store dirty cells\n",
        "        for i in range(self.size):\n",
        "            for j in range(self.size):\n",
        "                if self.current_state[i][j] > 0 and self.current_state[i][j]<5:\n",
        "                    dirty_cells.append(self.current_state[i][j])\n",
        "        #loops through the array, storing all the dirty cells into the array \n",
        "        \n",
        "        if len(dirty_cells) != 0:\n",
        "            #if the array of dirty cells is not equal to zero\n",
        "            room_size = self.size * self.size\n",
        "            walls = (2*self.size)+(2*(self.size-2))\n",
        "            objects = room_size*0.1\n",
        "            #this equation finds the number of cells that could contain dirt \n",
        "            #and multiplies then by 4, the max amount of dirt to find the dirt potential\n",
        "            dirt_potential = (room_size - walls - objects)*4\n",
        "            average_dirt = sum(dirty_cells)/dirt_potential \n",
        "        else:\n",
        "            average_dirt = 0            \n",
        "        return(average_dirt)\n",
        "   \n",
        "    def draw(self):\n",
        "        '''\n",
        "        Draw  current state of the cellular automaton.\n",
        "        '''\n",
        "        \n",
        "        plt.imshow(self.current_state,  cmap='YlOrBr')\n",
        "        plt.title('Roomba Position: ' + str(self.roomba_pos))\n",
        "        plt.show()"
      ],
      "execution_count": 0,
      "outputs": []
    },
    {
      "cell_type": "markdown",
      "metadata": {
        "id": "_hnFhX2elvDW",
        "colab_type": "text"
      },
      "source": [
        "### Second Roomba Strategy "
      ]
    },
    {
      "cell_type": "code",
      "metadata": {
        "id": "XG1cJwuVlw78",
        "colab_type": "code",
        "outputId": "80c1190c-a622-4ee3-9957-178d27a180a6",
        "colab": {
          "base_uri": "https://localhost:8080/",
          "height": 298
        }
      },
      "source": [
        "class Roomba_sim2():\n",
        "    # Create the attributes of the room class\n",
        "    def __init__(self, size = 10):\n",
        "        \n",
        "        '''\n",
        "     Inputs:\n",
        "        \n",
        "            size (int) The number of cells along each dimension of the\n",
        "              2-dimensional grid. Default: 100.\n",
        "\n",
        "        '''\n",
        "        self.size=size\n",
        "        self.steps = 0 \n",
        "        \n",
        "        self.current_state = np.zeros((self.size, self.size))      \n",
        "        for i in range(self.size):\n",
        "            for j in range(self.size):\n",
        "                probability = random.random()\n",
        "                \n",
        "                if probability <0.1:\n",
        "                     #randomly sets 10% of the room to be objects\n",
        "                    self.current_state[i][j] = 5  \n",
        "                elif probability < 0.3:\n",
        "                     #randomly sets 20% of the room to be clean\n",
        "                    self.current_state[i][j] = 0        \n",
        "                else:\n",
        "                    self.current_state[i][j] = random.randint(1,4)\n",
        "                    #the others are randomly set at a value from 1-4\n",
        "        self.size = size\n",
        "        \n",
        "    def initialize(self):\n",
        "        \n",
        "        for x in [0,self.size-1]:\n",
        "            for y in range(self.size):\n",
        "                self.current_state[x,y] = 5\n",
        "        \n",
        "        for y in [0,self.size-1]:\n",
        "            for x in range(self.size):\n",
        "                self.current_state[x,y] = 5\n",
        "        #creates a border/wall, setting all those cells to 5\n",
        "        \n",
        "        while True:\n",
        "            self.roomba_pos = (random.choice(range(1,self.size-1)),random.choice(range(1,self.size-1)))\n",
        "            if self.current_state[self.roomba_pos] < 5:\n",
        "                break\n",
        "        #randomly places roomba \n",
        "                \n",
        "        if self.current_state[self.roomba_pos[0],self.roomba_pos[1]]>0: \n",
        "            self.current_state[self.roomba_pos[0],self.roomba_pos[1]] -= 1\n",
        "        self.movement = np.array([-1,0])\n",
        "\n",
        "        \n",
        "        #creates an array to represent the current state of the room \n",
        "                 \n",
        "\n",
        "    def check_hood(self):\n",
        "        pos = self.roomba_pos \n",
        "        places = []\n",
        "        #create an array of all the places the roomba can go\n",
        "        priority_place = []\n",
        "        #creates an array of places deemed 'priority'\n",
        "        \n",
        "        #chooses a direction in the immediate neighborhood\n",
        "        for direction in [[0,1],[1,0],[0,-1],[-1,0]]:\n",
        "            #determines a possible next place\n",
        "            next_place = np.array(pos) + np.array(direction)\n",
        "            \n",
        "            if self.current_state[next_place[0],next_place[1]] < 5:\n",
        "                #tests if this next place is less than 5, if so, appends\n",
        "                if self.current_state[next_place[0],next_place[1]] == 4 or \\\n",
        "                    self.current_state[next_place[0],next_place[1]]==3:\n",
        "                    priority_place.append(next_place)\n",
        "                    #appends cells of value 3 & 4 into the priority array\n",
        "                else:\n",
        "                    places.append(next_place)\n",
        "                    #appends other cells in the possible places array\n",
        "                \n",
        "        if priority_place != []:\n",
        "            self.roomba_pos = random.choice(priority_place)\n",
        "        else: \n",
        "            self.roomba_pos = random.choice(places)\n",
        "\n",
        "    def step(self):\n",
        "    \n",
        "        self.check_hood()\n",
        "\n",
        "        #the state of the cell decreases by 1 \n",
        "        if self.current_state[self.roomba_pos[0], self.roomba_pos[1]] > 0:\n",
        "            self.current_state[self.roomba_pos[0], self.roomba_pos[1]] -=1\n",
        "        self.steps += 1\n",
        "    \n",
        "    def check_dirt(self):\n",
        "        \n",
        "        dirty_cells = []\n",
        "        #creates an empty array to store dirty cells\n",
        "        for i in range(self.size):\n",
        "            for j in range(self.size):\n",
        "                if self.current_state[i][j] > 0 and self.current_state[i][j]<5:\n",
        "                    dirty_cells.append(self.current_state[i][j])\n",
        "        #loops through the array, storing all the dirty cells into the array \n",
        "        \n",
        "        if len(dirty_cells) != 0:\n",
        "            #if the array of dirty cells is not equal to zero\n",
        "            room_size = self.size * self.size\n",
        "            walls = (2*self.size)+(2*(self.size-2))\n",
        "            objects = room_size*0.1\n",
        "            #this equation finds the number of cells that could contain dirt \n",
        "            #and multiplies then by 4, the max amount of dirt to find the dirt potential\n",
        "            dirt_potential = (room_size - walls - objects)*4\n",
        "            average_dirt = sum(dirty_cells)/dirt_potential \n",
        "        else:\n",
        "            average_dirt = 0            \n",
        "        return(average_dirt)\n",
        "   \n",
        "    def draw(self):\n",
        "        '''\n",
        "        Draw  current state of the cellular automaton.\n",
        "        '''\n",
        "        \n",
        "        plt.imshow(self.current_state,  cmap='YlOrBr')\n",
        "        plt.title('Roomba Position: ' + str(self.roomba_pos))\n",
        "        plt.show()"
      ],
      "execution_count": 0,
      "outputs": [
        {
          "output_type": "display_data",
          "data": {
            "image/png": "[encoded data removed]",
            "text/plain": [
              "<Figure size 432x288 with 1 Axes>"
            ]
          },
          "metadata": {
            "tags": []
          }
        },
        {
          "output_type": "execute_result",
          "data": {
            "text/plain": [
              "0.5601851851851852"
            ]
          },
          "metadata": {
            "tags": []
          },
          "execution_count": 3
        }
      ]
    },
    {
      "cell_type": "markdown",
      "metadata": {
        "id": "_NOWUd1Cl314",
        "colab_type": "text"
      },
      "source": [
        "### Histogram of First Strategy"
      ]
    },
    {
      "cell_type": "code",
      "metadata": {
        "id": "TOXe-59tDeMu",
        "colab_type": "code",
        "outputId": "5a2e3ed5-fb8e-4c61-bec6-a4e4e59871d4",
        "colab": {
          "base_uri": "https://localhost:8080/",
          "height": 438
        }
      },
      "source": [
        "#histogram of the first strategy\n",
        "from scipy.stats import sem, t\n",
        "from scipy import mean\n",
        "\n",
        "results1 = []\n",
        "for j in range(1000):\n",
        "    sim = Roomba_sim()\n",
        "    sim.initialize()\n",
        "    for i in range(300):\n",
        "        sim.step()\n",
        "    #sim.draw()\n",
        "    sim.check_dirt()\n",
        "    results1.append(sim.check_dirt())\n",
        "m1 = np.mean(results1)\n",
        "low_ci1 = np.percentile(results1, 2.5)\n",
        "high_ci1 = np.percentile(results1, 97.5)\n",
        "print(low_ci1,m1,high_ci1)\n",
        "\n",
        "plt.figure(figsize=(12,6))\n",
        "plt.hist(results1)\n",
        "plt.axvline(m1,color='red')\n",
        "plt.axvline(low_ci1,color='blue')\n",
        "plt.axvline(high_ci1,color='blue')\n",
        "plt.title('Distribution of Roomba Simulation#1 Dirt Density in 1000 trials')\n",
        "plt.xlabel('Remaining Dirt Density')\n"
      ],
      "execution_count": 0,
      "outputs": [
        {
          "output_type": "stream",
          "text": [
            "0.046296296296296294 0.12725925925925927 0.25462962962962965\n"
          ],
          "name": "stdout"
        },
        {
          "output_type": "execute_result",
          "data": {
            "text/plain": [
              "Text(0.5, 0, 'Remaining Dirt Density')"
            ]
          },
          "metadata": {
            "tags": []
          },
          "execution_count": 4
        },
        {
          "output_type": "display_data",
          "data": {
            "image/png": "[encoded data removed]",
            "text/plain": [
              "<Figure size 864x432 with 1 Axes>"
            ]
          },
          "metadata": {
            "tags": []
          }
        }
      ]
    },
    {
      "cell_type": "markdown",
      "metadata": {
        "id": "DSHRpUlRl622",
        "colab_type": "text"
      },
      "source": [
        "###Histogram of Second Strategy"
      ]
    },
    {
      "cell_type": "code",
      "metadata": {
        "id": "e8f4-Z0ADhCX",
        "colab_type": "code",
        "outputId": "781695a9-12cc-4a7e-fac9-14ce56b224a3",
        "colab": {
          "base_uri": "https://localhost:8080/",
          "height": 472
        }
      },
      "source": [
        "#histogram of the second strategy\n",
        "from scipy.stats import sem, t\n",
        "from scipy import mean\n",
        "\n",
        "results2 = []\n",
        "for j in range(1000):\n",
        "    sim = Roomba_sim2()\n",
        "    sim.initialize()\n",
        "    for i in range(300):\n",
        "        sim.step()\n",
        "    sim.check_dirt()\n",
        "    results2.append(sim.check_dirt())\n",
        "m2 = np.mean(results2)\n",
        "low_ci2 = np.percentile(results2, 2.5)\n",
        "high_ci2 = np.percentile(results2, 97.5)\n",
        "print(low_ci2)\n",
        "print(m2)\n",
        "print(high_ci2)\n",
        "\n",
        "plt.figure(figsize=(12,6))\n",
        "plt.hist(results2)\n",
        "plt.axvline(m2,color='red')\n",
        "plt.axvline(low_ci2,color='blue')\n",
        "plt.axvline(high_ci2,color='blue')\n",
        "plt.title('Distribution of Roomba Simulation#2 Dirt Density in 1000 trials')\n",
        "plt.xlabel('Remaining Dirt Density')\n"
      ],
      "execution_count": 0,
      "outputs": [
        {
          "output_type": "stream",
          "text": [
            "0.018518518518518517\n",
            "0.0735648148148148\n",
            "0.16666666666666666\n"
          ],
          "name": "stdout"
        },
        {
          "output_type": "execute_result",
          "data": {
            "text/plain": [
              "Text(0.5, 0, 'Remaining Dirt Density')"
            ]
          },
          "metadata": {
            "tags": []
          },
          "execution_count": 10
        },
        {
          "output_type": "display_data",
          "data": {
            "image/png": "[encoded data removed]",
            "text/plain": [
              "<Figure size 864x432 with 1 Axes>"
            ]
          },
          "metadata": {
            "tags": []
          }
        }
      ]
    },
    {
      "cell_type": "markdown",
      "metadata": {
        "id": "aCKYkchfmEKD",
        "colab_type": "text"
      },
      "source": [
        "###Comparison of Two Strategies "
      ]
    },
    {
      "cell_type": "code",
      "metadata": {
        "id": "P8DCNu_7Djl3",
        "colab_type": "code",
        "outputId": "af657e9d-82aa-40cb-fca0-25db8f165817",
        "colab": {
          "base_uri": "https://localhost:8080/",
          "height": 438
        }
      },
      "source": [
        "#comparison of the two strategies\n",
        "\n",
        "from scipy.stats import sem, t\n",
        "from scipy import mean\n",
        "\n",
        "plt.figure(figsize=(12,6))\n",
        "plt.hist(results1,label='Roomba#1',alpha = 0.75)\n",
        "plt.hist(results2,label=\"Roomba#2\",alpha = 0.75)\n",
        "plt.axvline(np.mean(results1),color='red')\n",
        "print(np.mean(results1))\n",
        "plt.axvline(np.mean(results2),color='red')\n",
        "print(np.mean(results2))\n",
        "plt.title('Distribution Remaining Dirt Densities for Both Strategies in 1000 Trials')\n",
        "plt.xlabel('Dirt Density')\n",
        "plt.legend()\n",
        "plt.show()\n"
      ],
      "execution_count": 0,
      "outputs": [
        {
          "output_type": "stream",
          "text": [
            "0.12725925925925927\n",
            "0.0735648148148148\n"
          ],
          "name": "stdout"
        },
        {
          "output_type": "display_data",
          "data": {
            "image/png": "[encoded data removed]",
            "text/plain": [
              "<Figure size 864x432 with 1 Axes>"
            ]
          },
          "metadata": {
            "tags": []
          }
        }
      ]
    },
    {
      "cell_type": "code",
      "metadata": {
        "id": "tEImuMxqDl2l",
        "colab_type": "code",
        "colab": {}
      },
      "source": [
        "print('The Inefficient Roomba has: ' , str(round(np.mean(results1),2)), 'average dirt density remaining after 300 steps')\n",
        "print('The Efficient Roomba has: ' , str(round(np.mean(results2),2)), 'average dirt density remaining after 300 steps')"
      ],
      "execution_count": 0,
      "outputs": []
    },
    {
      "cell_type": "markdown",
      "metadata": {
        "id": "hvSkO6BGmRk5",
        "colab_type": "text"
      },
      "source": [
        "###T-Test Results"
      ]
    },
    {
      "cell_type": "code",
      "metadata": {
        "id": "JDLsDRpeDnuD",
        "colab_type": "code",
        "outputId": "4220af89-07c8-4f00-c4f0-fc1980b9e67e",
        "colab": {
          "base_uri": "https://localhost:8080/",
          "height": 68
        }
      },
      "source": [
        "from scipy.stats import ttest_ind\n",
        "results = ttest_ind(results2,results1)\n",
        "tstat = results[0]\n",
        "pvalue = results[1]\n",
        "\n",
        "print('The T-Test between the distributions is ' , str(tstat))\n",
        "print('The P-Value of the T-Test is ', str(pvalue))\n",
        "print('Hence, The second roomba is statistically more efficient than the first roomba')"
      ],
      "execution_count": 0,
      "outputs": [
        {
          "output_type": "stream",
          "text": [
            "The T-Test between the distributions is  -25.43055697141969\n",
            "The P-Value of the T-Test is  7.860183452886821e-124\n",
            "Hence, The second roomba is statistically more efficient than the first roomba\n"
          ],
          "name": "stdout"
        }
      ]
    },
    {
      "cell_type": "markdown",
      "metadata": {
        "id": "5BtJVCDlmXN2",
        "colab_type": "text"
      },
      "source": [
        "###Initial Dirt Distribution"
      ]
    },
    {
      "cell_type": "code",
      "metadata": {
        "id": "N8Z02g2wDqUi",
        "colab_type": "code",
        "outputId": "e8ab480d-8352-4e39-a80c-9c74260a5189",
        "colab": {
          "base_uri": "https://localhost:8080/",
          "height": 421
        }
      },
      "source": [
        "initial_dirt = []\n",
        "\n",
        "for i in range(1000):\n",
        "    sim = Roomba_sim()\n",
        "    sim.initialize()\n",
        "    sim.check_dirt()\n",
        "    initial_dirt.append(sim.check_dirt())\n",
        "\n",
        "m3 = np.mean(initial_dirt)\n",
        "low_ci3 = np.percentile(initial_dirt, 2.5)\n",
        "high_ci3 = np.percentile(initial_dirt, 97.5)\n",
        "plt.figure(figsize=(12,6))\n",
        "plt.hist(initial_dirt)\n",
        "\n",
        "plt.axvline(m3,color='red')\n",
        "plt.axvline(low_ci3,color='blue')\n",
        "plt.axvline(high_ci3,color='blue')\n",
        "plt.title('Distribution of Initial Room Dirtiness 1000 trials, Strategy 1')\n",
        "plt.xlabel('Initial Dirt Density')\n",
        "plt.show()\n",
        "print(low_ci3, m3, high_ci3)\n"
      ],
      "execution_count": 0,
      "outputs": [
        {
          "output_type": "display_data",
          "data": {
            "image/png": "[encoded data removed]",
            "text/plain": [
              "<Figure size 864x432 with 1 Axes>"
            ]
          },
          "metadata": {
            "tags": []
          }
        },
        {
          "output_type": "stream",
          "text": [
            "0.40266203703703707 0.5164953703703704 0.6297453703703703\n"
          ],
          "name": "stdout"
        }
      ]
    },
    {
      "cell_type": "code",
      "metadata": {
        "id": "WZSRr20pDsiL",
        "colab_type": "code",
        "colab": {}
      },
      "source": [
        ""
      ],
      "execution_count": 0,
      "outputs": []
    },
    {
      "cell_type": "markdown",
      "metadata": {
        "id": "7B69S0y6mamj",
        "colab_type": "text"
      },
      "source": [
        "###**Scenario 2**"
      ]
    },
    {
      "cell_type": "markdown",
      "metadata": {
        "id": "gWSac_xamoWM",
        "colab_type": "text"
      },
      "source": [
        "###Strategy 1"
      ]
    },
    {
      "cell_type": "code",
      "metadata": {
        "id": "vvQl0iPJDuP4",
        "colab_type": "code",
        "colab": {}
      },
      "source": [
        "#the first Roomba strategy \n",
        "class Roomba_sim():\n",
        "    def __init__(self, size = 10):\n",
        "        \n",
        "        '''\n",
        "     Inputs:\n",
        "        \n",
        "            size (int) The number of cells along each dimension of the\n",
        "              2-dimensional grid. Default: 10.\n",
        "        '''\n",
        "        self.size= size\n",
        "        self.steps = 0 \n",
        "        #create an array of zeros\n",
        "        self.current_state = np.zeros((self.size, self.size))      \n",
        "        for i in range(self.size):\n",
        "            for j in range(self.size):\n",
        "                probability = random.random()\n",
        "                \n",
        "                if probability <0.1:\n",
        "                    #randomly sets 10% of the room to be objects\n",
        "                    self.current_state[i][j] = 5\n",
        "                    \n",
        "                \n",
        "                #elif probability < 0.2:\n",
        "                    #randomly sets 10% of the room to be clean\n",
        "                    #self.current_state[i][j] = 0\n",
        "                    \n",
        "                else:\n",
        "                #the other 80% are randomly set at a value from 1-4\n",
        "                    self.current_state[i][j] = 4\n",
        "        \n",
        "    def initialize(self):\n",
        "        #creates a wall around the perimeter, setting the value to 5 \n",
        "        #so the roomba will not go through it \n",
        "        \n",
        "        \n",
        "        for x in [0,9]:\n",
        "            for y in range(10):\n",
        "                self.current_state[x,y] = 5\n",
        "        \n",
        "        for y in [0,9]:\n",
        "            for x in range(10):\n",
        "                self.current_state[x,y] = 5\n",
        "               \n",
        "        while True:\n",
        "            #places the roomba randomly in the room \n",
        "            self.roomba_pos = (random.choice(range(1,self.size-1)),random.choice(range(1,self.size-1)))\n",
        "            if self.current_state[self.roomba_pos] < 5:\n",
        "                break \n",
        "        #the roomba cleans (subtracts one from the value of the cell) if it is identified to be dirty        \n",
        "        if self.current_state[self.roomba_pos[0],self.roomba_pos[1]]>0: \n",
        "            self.current_state[self.roomba_pos[0],self.roomba_pos[1]] -=1 \n",
        "        #movement is set to go one to the left \n",
        "        self.movement = np.array([-1,0])\n",
        "\n",
        "\n",
        "    def check_hood(self):\n",
        "        #function which changes neighborhood for possible places to go\n",
        "        pos = self.roomba_pos \n",
        "        places = []\n",
        "        #list of all the places that the roomba can go \n",
        "        \n",
        "        for direction in [[0,1],[1,0],[0,-1],[-1,0]]:\n",
        "            next_place = np.array(pos) + np.array(direction)\n",
        "            \n",
        "            if self.current_state[next_place[0],next_place[1]] < 5:\n",
        "                places.append(next_place)\n",
        "            #places all cells under 5 as possible places to go\n",
        "        \n",
        "        self.roomba_pos = random.choice(places)  \n",
        "        #roomba randomly chooses one of the places to move & clean\n",
        "\n",
        "\n",
        "    def step(self):\n",
        "    \n",
        "        self.check_hood()\n",
        "        #first calls the check hood function to move to a non-object in neighborhood \n",
        "\n",
        "        if self.current_state[self.roomba_pos[0], self.roomba_pos[1]] > 0:\n",
        "            self.current_state[self.roomba_pos[0], self.roomba_pos[1]] -= 1\n",
        "        self.steps += 1\n",
        "         #the state of the cell decreases by 1 as the roomba \"cleans it\"\n",
        "\n",
        "    def check_dirt(self):\n",
        "        \n",
        "        dirty_cells = []\n",
        "        #creates an empty array to store dirty cells\n",
        "        for i in range(self.size):\n",
        "            for j in range(self.size):\n",
        "                if self.current_state[i][j] > 0 and self.current_state[i][j]<5:\n",
        "                    dirty_cells.append(self.current_state[i][j])\n",
        "        #loops through the array, storing all the dirty cells into the array \n",
        "        \n",
        "        if len(dirty_cells) != 0:\n",
        "            #if the array of dirty cells is not equal to zero\n",
        "            room_size = self.size * self.size\n",
        "            walls = (2*self.size)+(2*(self.size-2))\n",
        "            objects = (room_size-walls)*0.1\n",
        "            #this equation finds the number of cells that could contain dirt \n",
        "            #and multiplies then by 4, the max amount of dirt to find the dirt potential\n",
        "            dirt_potential = (room_size - walls - objects)*4\n",
        "            #print(dirt_potential)\n",
        "            average_dirt = sum(dirty_cells)/dirt_potential \n",
        "            #print(sum(dirty_cells))\n",
        "        else:\n",
        "            average_dirt = 0            \n",
        "        return(average_dirt)\n",
        "   \n",
        "    def draw(self):\n",
        "        '''\n",
        "        Draw  current state of the cellular automaton.\n",
        "        '''\n",
        "        \n",
        "        plt.imshow(self.current_state,  cmap='YlOrBr')\n",
        "        plt.title('Roomba Position: ' + str(self.roomba_pos))\n",
        "        plt.show()"
      ],
      "execution_count": 0,
      "outputs": []
    },
    {
      "cell_type": "markdown",
      "metadata": {
        "id": "GPnnzL58muqW",
        "colab_type": "text"
      },
      "source": [
        "###Strategy 2"
      ]
    },
    {
      "cell_type": "code",
      "metadata": {
        "id": "ObpQeUu1mvIh",
        "colab_type": "code",
        "colab": {}
      },
      "source": [
        "class Roomba_sim2():\n",
        "    # Create the attributes of the room class\n",
        "    def __init__(self, size = 10):\n",
        "        \n",
        "        '''\n",
        "     Inputs:\n",
        "        \n",
        "            size (int) The number of cells along each dimension of the\n",
        "              2-dimensional grid. Default: 100.\n",
        "\n",
        "        '''\n",
        "        self.size=size\n",
        "        self.steps = 0 \n",
        "        \n",
        "        self.current_state = np.zeros((self.size, self.size))      \n",
        "        for i in range(self.size):\n",
        "            for j in range(self.size):\n",
        "                probability = random.random()\n",
        "                \n",
        "                if probability <0.1:\n",
        "                     #randomly sets 10% of the room to be objects\n",
        "                    self.current_state[i][j] = 5  \n",
        "                #elif probability < 0.2:\n",
        "                     #randomly sets 10% of the room to be clean\n",
        "                    #self.current_state[i][j] = 0        \n",
        "                else:\n",
        "                    self.current_state[i][j] = 4\n",
        "                    #the others are randomly set at a value from 1-4\n",
        "        self.size = size\n",
        "        \n",
        "    def initialize(self):\n",
        "        \n",
        "        for x in [0,9]:\n",
        "            for y in range(10):\n",
        "                self.current_state[x,y] = 5\n",
        "        \n",
        "        for y in [0,9]:\n",
        "            for x in range(10):\n",
        "                self.current_state[x,y] = 5\n",
        "        #creates a border/wall, setting all those cells to 5\n",
        "        \n",
        "        while True:\n",
        "            self.roomba_pos = (random.choice(range(1,self.size-1)),random.choice(range(1,self.size-1)))\n",
        "            if self.current_state[self.roomba_pos] < 5:\n",
        "                break\n",
        "        #randomly places roomba \n",
        "                \n",
        "        if self.current_state[self.roomba_pos[0],self.roomba_pos[1]]>0: \n",
        "            self.current_state[self.roomba_pos[0],self.roomba_pos[1]] -= 1\n",
        "        self.movement = np.array([-1,0])\n",
        "\n",
        "    def check_hood(self):\n",
        "        pos = self.roomba_pos \n",
        "        places = []\n",
        "        #create an array of all the places the roomba can go\n",
        "        priority_place = []\n",
        "        #creates an array of places deemed 'priority'\n",
        "        \n",
        "        #chooses a direction in the immediate neighborhood\n",
        "        for direction in [[0,1],[1,0],[0,-1],[-1,0]]:\n",
        "            #determines a possible next place\n",
        "            next_place = np.array(pos) + np.array(direction)\n",
        "            \n",
        "            if self.current_state[next_place[0],next_place[1]] < 5:\n",
        "                #tests if this next place is less than 5, if so, appends\n",
        "                if self.current_state[next_place[0],next_place[1]] == 4 or \\\n",
        "                    self.current_state[next_place[0],next_place[1]]==3:\n",
        "                    priority_place.append(next_place)\n",
        "                    #appends cells of value 3 & 4 into the priority array\n",
        "                else:\n",
        "                    places.append(next_place)\n",
        "                    #appends other cells in the possible places array\n",
        "                \n",
        "        if priority_place != []:\n",
        "            self.roomba_pos = random.choice(priority_place)\n",
        "        else: \n",
        "            self.roomba_pos = random.choice(places)\n",
        "\n",
        "    def step(self):\n",
        "    \n",
        "        self.check_hood()\n",
        "\n",
        "        #the state of the cell decreases by 1 \n",
        "        if self.current_state[self.roomba_pos[0], self.roomba_pos[1]] > 0:\n",
        "            self.current_state[self.roomba_pos[0], self.roomba_pos[1]] -=1\n",
        "        self.steps += 1\n",
        "    \n",
        "    def check_dirt(self):\n",
        "        \n",
        "        dirty_cells = []\n",
        "        #creates an empty array to store dirty cells\n",
        "        for i in range(self.size):\n",
        "            for j in range(self.size):\n",
        "                if self.current_state[i][j] > 0 and self.current_state[i][j]<5:\n",
        "                    dirty_cells.append(self.current_state[i][j])\n",
        "        #loops through the array, storing all the dirty cells into the array \n",
        "        \n",
        "        if len(dirty_cells) != 0:\n",
        "            #if the array of dirty cells is not equal to zero\n",
        "            room_size = self.size * self.size\n",
        "            walls = (2*self.size)+(2*(self.size-2))\n",
        "            objects = room_size*0.1\n",
        "            #this equation finds the number of cells that could contain dirt \n",
        "            #and multiplies then by 4, the max amount of dirt to find the dirt potential\n",
        "            dirt_potential = (room_size - walls - objects)*4\n",
        "            average_dirt = sum(dirty_cells)/dirt_potential \n",
        "        else:\n",
        "            average_dirt = 0            \n",
        "        return(average_dirt)\n",
        "   \n",
        "    def draw(self):\n",
        "        '''\n",
        "        Draw  current state of the cellular automaton.\n",
        "        '''\n",
        "        \n",
        "        plt.imshow(self.current_state,  cmap='YlOrBr')\n",
        "        plt.title('Roomba Position: ' + str(self.roomba_pos))\n",
        "        plt.show()\n",
        "\n"
      ],
      "execution_count": 0,
      "outputs": []
    },
    {
      "cell_type": "markdown",
      "metadata": {
        "id": "fR6_Xt0-m8xz",
        "colab_type": "text"
      },
      "source": [
        "###Histogram of Strategy 1"
      ]
    },
    {
      "cell_type": "code",
      "metadata": {
        "id": "7iSAoS96m9AE",
        "colab_type": "code",
        "outputId": "cf055c35-2f0d-4306-b1c4-2140f7e62092",
        "colab": {
          "base_uri": "https://localhost:8080/",
          "height": 438
        }
      },
      "source": [
        "from scipy.stats import sem, t\n",
        "from scipy import mean\n",
        "\n",
        "results1 = []\n",
        "for j in range(1000):\n",
        "    sim = Roomba_sim()\n",
        "    sim.initialize()\n",
        "    for i in range(300):\n",
        "        sim.step()\n",
        "    #sim.draw()\n",
        "    sim.check_dirt()\n",
        "    results1.append(sim.check_dirt())\n",
        "m1 = np.mean(results1)\n",
        "low_ci1 = np.percentile(results1, 2.5)\n",
        "high_ci1 = np.percentile(results1, 97.5)\n",
        "print(low_ci1,m1,high_ci1)\n",
        "\n",
        "plt.figure(figsize=(12,6))\n",
        "plt.hist(results1)\n",
        "plt.axvline(m1,color='red')\n",
        "plt.axvline(low_ci1,color='blue')\n",
        "plt.axvline(high_ci1,color='blue')\n",
        "plt.title('Distribution of Roomba Simulation#1 Dirt Density in 1000 trials')\n",
        "plt.xlabel('Dirt Density')\n"
      ],
      "execution_count": 0,
      "outputs": [
        {
          "output_type": "stream",
          "text": [
            "0.16493055555555555 0.2928689236111111 0.4774305555555555\n"
          ],
          "name": "stdout"
        },
        {
          "output_type": "execute_result",
          "data": {
            "text/plain": [
              "Text(0.5, 0, 'Dirt Density')"
            ]
          },
          "metadata": {
            "tags": []
          },
          "execution_count": 24
        },
        {
          "output_type": "display_data",
          "data": {
            "image/png": "[encoded data removed]",
            "text/plain": [
              "<Figure size 864x432 with 1 Axes>"
            ]
          },
          "metadata": {
            "tags": []
          }
        }
      ]
    },
    {
      "cell_type": "markdown",
      "metadata": {
        "id": "vlGPXOUJnIOH",
        "colab_type": "text"
      },
      "source": [
        "###Histogram of Strategy 2"
      ]
    },
    {
      "cell_type": "code",
      "metadata": {
        "id": "4vpD_gW_nIaY",
        "colab_type": "code",
        "outputId": "9b8606d9-1b0d-4aae-c657-4d377d81c991",
        "colab": {
          "base_uri": "https://localhost:8080/",
          "height": 472
        }
      },
      "source": [
        "from scipy.stats import sem, t\n",
        "from scipy import mean\n",
        "\n",
        "results2 = []\n",
        "for j in range(1000):\n",
        "    sim = Roomba_sim2()\n",
        "    sim.initialize()\n",
        "    for i in range(300):\n",
        "        sim.step()\n",
        "    sim.check_dirt()\n",
        "    results2.append(sim.check_dirt())\n",
        "m2 = np.mean(results2)\n",
        "low_ci2 = np.percentile(results2, 2.5)\n",
        "high_ci2 = np.percentile(results2, 97.5)\n",
        "print(low_ci2)\n",
        "print(m2)\n",
        "print(high_ci2)\n",
        "\n",
        "plt.figure(figsize=(12,6))\n",
        "plt.hist(results2)\n",
        "plt.axvline(m2,color='red')\n",
        "plt.axvline(low_ci2,color='blue')\n",
        "plt.axvline(high_ci2,color='blue')\n",
        "plt.title('Distribution of Roomba Simulation#2 Dirt Density in 1000 trials')\n",
        "plt.xlabel('Dirt Density')\n"
      ],
      "execution_count": 0,
      "outputs": [
        {
          "output_type": "stream",
          "text": [
            "0.0787037037037037\n",
            "0.16692129629629632\n",
            "0.2916666666666667\n"
          ],
          "name": "stdout"
        },
        {
          "output_type": "execute_result",
          "data": {
            "text/plain": [
              "Text(0.5, 0, 'Dirt Density')"
            ]
          },
          "metadata": {
            "tags": []
          },
          "execution_count": 22
        },
        {
          "output_type": "display_data",
          "data": {
            "image/png": "[encoded data removed]",
            "text/plain": [
              "<Figure size 864x432 with 1 Axes>"
            ]
          },
          "metadata": {
            "tags": []
          }
        }
      ]
    },
    {
      "cell_type": "markdown",
      "metadata": {
        "id": "xNPh88RPnVWs",
        "colab_type": "text"
      },
      "source": [
        "###Comparison"
      ]
    },
    {
      "cell_type": "code",
      "metadata": {
        "id": "JybckHarnVlQ",
        "colab_type": "code",
        "outputId": "8d131a34-a5ab-4e2a-abc1-9d0d824efeac",
        "colab": {
          "base_uri": "https://localhost:8080/",
          "height": 438
        }
      },
      "source": [
        "from scipy.stats import sem, t\n",
        "from scipy import mean\n",
        "\n",
        "plt.figure(figsize=(12,6))\n",
        "plt.hist(results1,label='Roomba#1',alpha = 0.75)\n",
        "plt.hist(results2,label=\"Roomba#2\",alpha = 0.75)\n",
        "plt.axvline(np.mean(results1),color='red')\n",
        "print(np.mean(results1))\n",
        "plt.axvline(np.mean(results2),color='red')\n",
        "print(np.mean(results2))\n",
        "plt.title('Distribution of Remaining Dirt Densities for Both Strategies in 1000 Trials')\n",
        "plt.xlabel('Dirt Density')\n",
        "plt.legend()\n",
        "plt.show()"
      ],
      "execution_count": 0,
      "outputs": [
        {
          "output_type": "stream",
          "text": [
            "0.2928689236111111\n",
            "0.16692129629629632\n"
          ],
          "name": "stdout"
        },
        {
          "output_type": "display_data",
          "data": {
            "image/png": "[encoded data removed]",
            "text/plain": [
              "<Figure size 864x432 with 1 Axes>"
            ]
          },
          "metadata": {
            "tags": []
          }
        }
      ]
    },
    {
      "cell_type": "markdown",
      "metadata": {
        "id": "4Ugr1fxDneNU",
        "colab_type": "text"
      },
      "source": [
        "### T Test "
      ]
    },
    {
      "cell_type": "code",
      "metadata": {
        "id": "cv9AjE1aneVs",
        "colab_type": "code",
        "outputId": "a1cf3d2d-233e-45c6-a82f-fd7adf0abc92",
        "colab": {
          "base_uri": "https://localhost:8080/",
          "height": 68
        }
      },
      "source": [
        "from scipy.stats import ttest_ind\n",
        "results = ttest_ind(results2,results1)\n",
        "tstat = results[0]\n",
        "pvalue = results[1]\n",
        "\n",
        "print('The T-Test between the distributions is ' , str(tstat))\n",
        "print('The P-Value of the T-Test is ', str(pvalue))\n",
        "print('Hence, The second roomba is statistically more efficient than the first roomba')"
      ],
      "execution_count": 0,
      "outputs": [
        {
          "output_type": "stream",
          "text": [
            "The T-Test between the distributions is  -38.42699661599456\n",
            "The P-Value of the T-Test is  2.3111951519903963e-242\n",
            "Hence, The second roomba is statistically more efficient than the first roomba\n"
          ],
          "name": "stdout"
        }
      ]
    }
  ]
}